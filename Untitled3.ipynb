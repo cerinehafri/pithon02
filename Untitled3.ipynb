{
 "cells": [
  {
   "cell_type": "code",
   "execution_count": 5,
   "id": "80142e54",
   "metadata": {},
   "outputs": [
    {
     "name": "stdout",
     "output_type": "stream",
     "text": [
      "500\n",
      "250.0\n"
     ]
    }
   ],
   "source": [
    "i=int(input())\n",
    "if i>=500:\n",
    "    \n",
    "    print(i-i*0.5)\n",
    "elif i>=200: \n",
    "    print(i-i*0.3)\n",
    "else :\n",
    "    print(i-i*0.1)"
   ]
  },
  {
   "cell_type": "code",
   "execution_count": 8,
   "id": "5e3e07b8",
   "metadata": {
    "scrolled": true
   },
   "outputs": [
    {
     "name": "stdout",
     "output_type": "stream",
     "text": [
      "6\n",
      "18\n",
      "9\n"
     ]
    }
   ],
   "source": [
    "V=[2,6,3]\n",
    "for i in V:\n",
    "    print(i*len(V))"
   ]
  },
  {
   "cell_type": "code",
   "execution_count": 16,
   "id": "386c9ea4",
   "metadata": {},
   "outputs": [
    {
     "name": "stdout",
     "output_type": "stream",
     "text": [
      "36\n"
     ]
    }
   ],
   "source": [
    "V=[2,6,3]\n",
    "s=1\n",
    "for i in V:\n",
    "    s=s*i\n",
    "print(s)"
   ]
  },
  {
   "cell_type": "code",
   "execution_count": null,
   "id": "fdb1a918",
   "metadata": {},
   "outputs": [],
   "source": []
  }
 ],
 "metadata": {
  "kernelspec": {
   "display_name": "Python 3 (ipykernel)",
   "language": "python",
   "name": "python3"
  },
  "language_info": {
   "codemirror_mode": {
    "name": "ipython",
    "version": 3
   },
   "file_extension": ".py",
   "mimetype": "text/x-python",
   "name": "python",
   "nbconvert_exporter": "python",
   "pygments_lexer": "ipython3",
   "version": "3.9.12"
  }
 },
 "nbformat": 4,
 "nbformat_minor": 5
}
